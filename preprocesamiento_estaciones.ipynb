{
 "cells": [
  {
   "cell_type": "code",
   "execution_count": 1,
   "metadata": {},
   "outputs": [
    {
     "name": "stdout",
     "output_type": "stream",
     "text": [
      "la_esperanza_nechi\n",
      "la_raya\n",
      "las_varas\n",
      "magangue\n",
      "sucre\n",
      "tres_cruces\n",
      "villa_teresa\n",
      "\n",
      "Importados como DataFrames y almacenados en la lista 'estaciones'\n"
     ]
    }
   ],
   "source": [
    "import os\n",
    "import pandas as pd\n",
    "\n",
    "directory = os.path.expanduser('~/Documents/NUVU/NUVU/Caudal_Medio_Dia_Historico/')\n",
    "\n",
    "estaciones = []\n",
    "\n",
    "for filename in os.listdir(directory):\n",
    "    if filename.endswith('.csv'):\n",
    "        path = os.path.join(directory, filename)\n",
    "\n",
    "        var_name = os.path.splitext(filename)[0].replace(' ', '_').lower()\n",
    "\n",
    "        df = pd.read_csv(path, sep=';', encoding='ISO-8859-1')\n",
    "        estaciones.append(df)\n",
    "\n",
    "        print(f\"{var_name}\")\n",
    "print(\"\")\n",
    "print(\"Importados como DataFrames y almacenados en la lista 'estaciones'\")\n"
   ]
  },
  {
   "cell_type": "code",
   "execution_count": 2,
   "metadata": {},
   "outputs": [
    {
     "name": "stdout",
     "output_type": "stream",
     "text": [
      "DataFrame 1 columnas: ['year', 'month', '1', '2', '3', '4', '5', '6', '7', '8', '9', '10', '11', '12', '13', '14', '15', '16', '17', '18', '19', '20', '21', '22', '23', '24', '25', '26', '27', '28', '29', '30', '31']\n",
      "DataFrame 2 columnas: ['year', 'month', '1', '2', '3', '4', '5', '6', '7', '8', '9', '10', '11', '12', '13', '14', '15', '16', '17', '18', '19', '20', '21', '22', '23', '24', '25', '26', '27', '28', '29', '30', '31']\n",
      "DataFrame 3 columnas: ['year', 'month', '1', '2', '3', '4', '5', '6', '7', '8', '9', '10', '11', '12', '13', '14', '15', '16', '17', '18', '19', '20', '21', '22', '23', '24', '25', '26', '27', '28', '29', '30', '31']\n",
      "DataFrame 4 columnas: ['year', 'month', '1', '2', '3', '4', '5', '6', '7', '8', '9', '10', '11', '12', '13', '14', '15', '16', '17', '18', '19', '20', '21', '22', '23', '24', '25', '26', '27', '28', '29', '30', '31']\n",
      "DataFrame 5 columnas: ['year', 'month', '1', '2', '3', '4', '5', '6', '7', '8', '9', '10', '11', '12', '13', '14', '15', '16', '17', '18', '19', '20', '21', '22', '23', '24', '25', '26', '27', '28', '29', '30', '31']\n",
      "DataFrame 6 columnas: ['year', 'month', '1', '2', '3', '4', '5', '6', '7', '8', '9', '10', '11', '12', '13', '14', '15', '16', '17', '18', '19', '20', '21', '22', '23', '24', '25', '26', '27', '28', '29', '30', '31']\n",
      "DataFrame 7 columnas: ['year', 'month', '1', '2', '3', '4', '5', '6', '7', '8', '9', '10', '11', '12', '13', '14', '15', '16', '17', '18', '19', '20', '21', '22', '23', '24', '25', '26', '27', '28', '29', '30', '31']\n"
     ]
    }
   ],
   "source": [
    "for i, df in enumerate(estaciones):\n",
    "    print(f\"DataFrame {i+1} columnas: {list(df.columns)}\")"
   ]
  },
  {
   "cell_type": "code",
   "execution_count": 5,
   "metadata": {},
   "outputs": [],
   "source": [
    "columns_to_convert = [str(i) for i in range(1, 32)]\n",
    "\n",
    "for i, df in enumerate(estaciones):\n",
    "    df[columns_to_convert] = df[columns_to_convert].apply(lambda x: x.str.replace(',', '.'))\n",
    "    df[columns_to_convert] = df[columns_to_convert].apply(pd.to_numeric, errors='coerce')\n",
    "    df[columns_to_convert] = df[columns_to_convert].apply(lambda x: x.round().astype('Int64'))"
   ]
  },
  {
   "cell_type": "code",
   "execution_count": 6,
   "metadata": {},
   "outputs": [
    {
     "name": "stdout",
     "output_type": "stream",
     "text": [
      "DataFrame 1 - Mínimo valor: 132, Máximo valor: 2430\n",
      "DataFrame 2 - Mínimo valor: 8, Máximo valor: 1028\n",
      "DataFrame 3 - Mínimo valor: 423, Máximo valor: 4791\n",
      "DataFrame 4 - Mínimo valor: 1021, Máximo valor: 11127\n",
      "DataFrame 5 - Mínimo valor: 5, Máximo valor: 87\n",
      "DataFrame 6 - Mínimo valor: 14, Máximo valor: 5244\n",
      "DataFrame 7 - Mínimo valor: 0, Máximo valor: 31\n"
     ]
    }
   ],
   "source": [
    "import numpy as np\n",
    "columns_to_check = [str(i) for i in range(1, 32)]\n",
    "\n",
    "for i, df in enumerate(estaciones):\n",
    "    df_min = df[columns_to_check].min().min()\n",
    "    df_max = df[columns_to_check].max().max()\n",
    "    \n",
    "    print(f\"DataFrame {i+1} - Mínimo valor: {df_min}, Máximo valor: {df_max}\")"
   ]
  },
  {
   "cell_type": "code",
   "execution_count": 7,
   "metadata": {},
   "outputs": [
    {
     "name": "stdout",
     "output_type": "stream",
     "text": [
      "la_esperanza_nechi_norm\n",
      "la_raya_norm\n",
      "las_varas_norm\n",
      "magangue_norm\n",
      "sucre_norm\n",
      "tres_cruces_norm\n",
      "villa_teresa_norm\n",
      "DataFrames normalizados y almacenados en la lista 'estaciones_norm'\n"
     ]
    }
   ],
   "source": [
    "import pandas as pd\n",
    "import numpy as np\n",
    "from sklearn.preprocessing import MinMaxScaler\n",
    "\n",
    "# Definir los nombres originales de los DataFrames\n",
    "nombres_originales = ['la_esperanza_nechi', 'la_raya', 'las_varas', 'magangue', 'sucre', 'tres_cruces', 'villa_teresa']\n",
    "\n",
    "# Columnas a evaluar\n",
    "columns_to_normalize = [str(i) for i in range(1, 32)]\n",
    "\n",
    "# Inicializar el escalador Min-Max\n",
    "scaler = MinMaxScaler()\n",
    "\n",
    "# Lista para almacenar los DataFrames normalizados\n",
    "estaciones_norm = []\n",
    "\n",
    "# Normalizar los DataFrames y añadir el sufijo _norm a los nombres\n",
    "for df, name in zip(estaciones, nombres_originales):\n",
    "    # Crear una copia del DataFrame para no modificar el original\n",
    "    df_copy = df.copy()\n",
    "    \n",
    "    # Aplicar Min-Max Scaling solo a las columnas especificadas\n",
    "    df_copy[columns_to_normalize] = scaler.fit_transform(df_copy[columns_to_normalize])\n",
    "    \n",
    "    # Añadir el DataFrame normalizado a la lista\n",
    "    estaciones_norm.append(df_copy)\n",
    "    \n",
    "    # Imprimir el nombre del DataFrame normalizado\n",
    "    print(f\"{name}_norm\")\n",
    "\n",
    "print(\"DataFrames normalizados y almacenados en la lista 'estaciones_norm'\")\n"
   ]
  },
  {
   "cell_type": "code",
   "execution_count": 8,
   "metadata": {},
   "outputs": [
    {
     "name": "stdout",
     "output_type": "stream",
     "text": [
      "DataFrame 1 - Mínimo valor: 0.0, Máximo valor: 1.0000000000000002\n",
      "DataFrame 2 - Mínimo valor: 0.0, Máximo valor: 1.0000000000000002\n",
      "DataFrame 3 - Mínimo valor: 0.0, Máximo valor: 1.0000000000000002\n",
      "DataFrame 4 - Mínimo valor: 0.0, Máximo valor: 1.0\n",
      "DataFrame 5 - Mínimo valor: 0.0, Máximo valor: 1.0000000000000002\n",
      "DataFrame 6 - Mínimo valor: 0.0, Máximo valor: 1.0000000000000002\n",
      "DataFrame 7 - Mínimo valor: 0.0, Máximo valor: 1.0\n"
     ]
    }
   ],
   "source": [
    "for i, df in enumerate(estaciones_norm):\n",
    "    df_min = df[columns_to_check].min().min()\n",
    "    df_max = df[columns_to_check].max().max()\n",
    "    \n",
    "    print(f\"DataFrame {i+1} - Mínimo valor: {df_min}, Máximo valor: {df_max}\")"
   ]
  },
  {
   "cell_type": "code",
   "execution_count": 9,
   "metadata": {},
   "outputs": [
    {
     "name": "stdout",
     "output_type": "stream",
     "text": [
      "Guardado la_esperanza_nechi_norm.csv en C:\\Users\\nuvup/Documents/NUVU/NUVU/Caudal_Medio_Dia_Historico_Normalizado/\n",
      "Guardado la_raya_norm.csv en C:\\Users\\nuvup/Documents/NUVU/NUVU/Caudal_Medio_Dia_Historico_Normalizado/\n",
      "Guardado las_varas_norm.csv en C:\\Users\\nuvup/Documents/NUVU/NUVU/Caudal_Medio_Dia_Historico_Normalizado/\n",
      "Guardado magangue_norm.csv en C:\\Users\\nuvup/Documents/NUVU/NUVU/Caudal_Medio_Dia_Historico_Normalizado/\n",
      "Guardado sucre_norm.csv en C:\\Users\\nuvup/Documents/NUVU/NUVU/Caudal_Medio_Dia_Historico_Normalizado/\n",
      "Guardado tres_cruces_norm.csv en C:\\Users\\nuvup/Documents/NUVU/NUVU/Caudal_Medio_Dia_Historico_Normalizado/\n",
      "Guardado villa_teresa_norm.csv en C:\\Users\\nuvup/Documents/NUVU/NUVU/Caudal_Medio_Dia_Historico_Normalizado/\n"
     ]
    }
   ],
   "source": [
    "nombres_originales = ['la_esperanza_nechi', 'la_raya', 'las_varas', 'magangue', 'sucre', 'tres_cruces', 'villa_teresa']\n",
    "nombres_normalizados = [f\"{nombre}_norm\" for nombre in nombres_originales]\n",
    "\n",
    "output_directory = os.path.expanduser('~/Documents/NUVU/NUVU/Caudal_Medio_Dia_Historico_Normalizado/')\n",
    "os.makedirs(output_directory, exist_ok=True)\n",
    "\n",
    "for df, norm_name in zip(estaciones_norm, nombres_normalizados):\n",
    "    output_path = os.path.join(output_directory, f\"{norm_name}.csv\")\n",
    "\n",
    "    df.to_csv(output_path, sep=';', encoding='ISO-8859-1', index=False)\n",
    "    print(f\"Guardado {norm_name}.csv en {output_directory}\")\n",
    "\n"
   ]
  },
  {
   "cell_type": "code",
   "execution_count": null,
   "metadata": {},
   "outputs": [],
   "source": []
  }
 ],
 "metadata": {
  "kernelspec": {
   "display_name": "Python 3",
   "language": "python",
   "name": "python3"
  },
  "language_info": {
   "codemirror_mode": {
    "name": "ipython",
    "version": 3
   },
   "file_extension": ".py",
   "mimetype": "text/x-python",
   "name": "python",
   "nbconvert_exporter": "python",
   "pygments_lexer": "ipython3",
   "version": "3.11.9"
  }
 },
 "nbformat": 4,
 "nbformat_minor": 2
}
