{
 "cells": [
  {
   "cell_type": "code",
   "execution_count": 1,
   "metadata": {},
   "outputs": [],
   "source": [
    "import pandas as pd\n",
    "import json\n",
    "\n",
    "# Cargar el archivo CSV\n",
    "file_path = r'C:/Users/Mateo Grisales/Downloads/Caudal_Medio_Dia_Historico_Nechi.csv'\n",
    "data = pd.read_csv(file_path, sep=';', encoding='ISO-8859-1')"
   ]
  },
  {
   "cell_type": "code",
   "execution_count": 2,
   "metadata": {},
   "outputs": [
    {
     "data": {
      "text/plain": [
       "Index(['year', 'month', '1', '2', '3', '4', '5', '6', '7', '8', '9', '10',\n",
       "       '11', '12', '13', '14', '15', '16', '17', '18', '19', '20', '21', '22',\n",
       "       '23', '24', '25', '26', '27', '28', '29', '30', '31'],\n",
       "      dtype='object')"
      ]
     },
     "execution_count": 2,
     "metadata": {},
     "output_type": "execute_result"
    }
   ],
   "source": [
    "data.columns"
   ]
  },
  {
   "cell_type": "code",
   "execution_count": 3,
   "metadata": {},
   "outputs": [],
   "source": [
    "melted_data = data.melt(id_vars=[\"year\", \"month\"], var_name=\"day\", value_name=\"Caudal\")\n",
    "melted_data.dropna(subset=[\"Caudal\"], inplace=True)\n",
    "melted_data['day'] = melted_data['day'].astype(int)\n",
    "melted_data['Fecha'] = pd.to_datetime(melted_data[['year', 'month', 'day']])\n",
    "melted_data.sort_values('Fecha', inplace=True)\n",
    "melted_data['Fecha'] = melted_data['Fecha'].astype(str)\n",
    "melted_data['Latitud'] = 8.030111111\n",
    "melted_data['Longitud'] = -74.78555556"
   ]
  },
  {
   "cell_type": "code",
   "execution_count": 4,
   "metadata": {},
   "outputs": [],
   "source": [
    "melted_data['day'] = melted_data['day'].astype(int)\n",
    "melted_data['Fecha'] = pd.to_datetime(melted_data[['year', 'month', 'day']]) + pd.to_timedelta('00:00:00')"
   ]
  },
  {
   "cell_type": "code",
   "execution_count": 5,
   "metadata": {},
   "outputs": [],
   "source": [
    "def df_to_geojson(df, properties, lat='Latitud', lon='Longitud'):\n",
    "    geojson = {'type': 'FeatureCollection', 'features': []}\n",
    "    for _, row in df.iterrows():\n",
    "        feature = {\n",
    "            'type': 'Feature',\n",
    "            'properties': {},\n",
    "            'geometry': {\n",
    "                'type': 'Point',\n",
    "                'coordinates': [row[lon], row[lat]]\n",
    "            }\n",
    "        }\n",
    "        for prop in properties:\n",
    "            if isinstance(row[prop], pd.Timestamp):\n",
    "                # Convertir datetime a string en formato ISO para GeoJSON\n",
    "                feature['properties'][prop] = row[prop].isoformat()\n",
    "            else:\n",
    "                feature['properties'][prop] = row[prop]\n",
    "        geojson['features'].append(feature)\n",
    "    return geojson\n"
   ]
  },
  {
   "cell_type": "code",
   "execution_count": 6,
   "metadata": {},
   "outputs": [
    {
     "name": "stdout",
     "output_type": "stream",
     "text": [
      "GeoJSON file created at C:/Users/Mateo Grisales/Downloads/Caudal_Nechi.geojson\n"
     ]
    }
   ],
   "source": [
    "properties = ['Fecha', 'Caudal']\n",
    "geojson_data = df_to_geojson(melted_data, properties)\n",
    "\n",
    "# Guardar el GeoJSON\n",
    "geojson_path = 'C:/Users/Mateo Grisales/Downloads/Caudal_Nechi.geojson'\n",
    "with open(geojson_path, 'w') as f:\n",
    "    json.dump(geojson_data, f)\n",
    "\n",
    "print(f\"GeoJSON file created at {geojson_path}\")"
   ]
  },
  {
   "cell_type": "code",
   "execution_count": null,
   "metadata": {},
   "outputs": [],
   "source": []
  },
  {
   "cell_type": "code",
   "execution_count": null,
   "metadata": {},
   "outputs": [],
   "source": []
  }
 ],
 "metadata": {
  "kernelspec": {
   "display_name": "Python 3 (ipykernel)",
   "language": "python",
   "name": "python3"
  },
  "language_info": {
   "codemirror_mode": {
    "name": "ipython",
    "version": 3
   },
   "file_extension": ".py",
   "mimetype": "text/x-python",
   "name": "python",
   "nbconvert_exporter": "python",
   "pygments_lexer": "ipython3",
   "version": "3.11.7"
  }
 },
 "nbformat": 4,
 "nbformat_minor": 4
}
