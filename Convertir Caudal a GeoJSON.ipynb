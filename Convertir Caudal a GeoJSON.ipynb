{
 "cells": [
  {
   "cell_type": "code",
   "execution_count": null,
   "metadata": {},
   "outputs": [],
   "source": []
  },
  {
   "cell_type": "code",
   "execution_count": 12,
   "metadata": {},
   "outputs": [
    {
     "name": "stdout",
     "output_type": "stream",
     "text": [
      "la_esperanza_nechi\n",
      "la_raya\n",
      "las_varas\n",
      "magangue\n",
      "sucre\n",
      "tres_cruces\n",
      "villa_teresa\n",
      "las_varas_norm\n",
      "la_esperanza_nechi_norm\n",
      "la_raya_norm\n",
      "magangue_norm\n",
      "sucre_norm\n",
      "tres_cruces_norm\n",
      "villa_teresa_norm\n"
     ]
    }
   ],
   "source": [
    "import os\n",
    "import pandas as pd\n",
    "\n",
    "directory = os.path.expanduser('./Caudal_Medio_Dia_Historico/')\n",
    "directory_norm = os.path.expanduser('./Caudal_Medio_Dia_Historico_Normalizado/')\n",
    "\n",
    "estaciones = {}\n",
    "estaciones_norm = {}\n",
    "\n",
    "def process_directory(dir_path, data_dict):\n",
    "    for filename in os.listdir(dir_path):\n",
    "        if filename.endswith('.csv'):\n",
    "            path = os.path.join(dir_path, filename)\n",
    "            var_name = os.path.splitext(filename)[0].replace(' ', '_').lower()\n",
    "            df = pd.read_csv(path, sep=';', encoding='ISO-8859-1')\n",
    "            data_dict[var_name] = df\n",
    "            print(f\"{var_name}\")\n",
    "\n",
    "process_directory(directory, estaciones)\n",
    "process_directory(directory_norm, estaciones_norm)\n"
   ]
  },
  {
   "cell_type": "code",
   "execution_count": 13,
   "metadata": {},
   "outputs": [],
   "source": [
    "def transform_data(data, lat, lon, station_name):\n",
    "    melted_data = data.melt(id_vars=[\"year\", \"month\"], var_name=\"day\", value_name=\"Caudal\")\n",
    "    melted_data.dropna(subset=[\"Caudal\"], inplace=True)\n",
    "    melted_data['day'] = melted_data['day'].astype(int)\n",
    "    melted_data['Fecha'] = pd.to_datetime(melted_data[['year', 'month', 'day']]) + pd.to_timedelta('00:00:00')\n",
    "    melted_data.sort_values('Fecha', inplace=True)\n",
    "    melted_data['Latitud'] = lat\n",
    "    melted_data['Longitud'] = lon\n",
    "    melted_data['Estacion'] = station_name.replace('_', ' ').title()\n",
    "    return melted_data\n",
    "\n",
    "coords = {\n",
    "    \"la_esperanza_nechi\": (8.030111111, -74.78555556),\n",
    "    \"la_raya\": (8.344555556, -74.56122222),\n",
    "    \"las_varas\": (8.39, -74.56),\n",
    "    \"magangue\": (9.24, -74.74166667),\n",
    "    \"sucre\": (8.809722222, -74.72222222),\n",
    "    \"tres_cruces\": (8.703083333, -74.51730556),\n",
    "    \"villa_teresa\": (9.023972222, -74.97666667)\n",
    "}"
   ]
  },
  {
   "cell_type": "code",
   "execution_count": 14,
   "metadata": {},
   "outputs": [],
   "source": [
    "transformed_data = {}\n",
    "for name, df in estaciones.items():\n",
    "    lat, lon = coords[name]\n",
    "    station_name = name\n",
    "    transformed_df = transform_data(df, lat, lon, station_name)\n",
    "    transformed_data[name] = transformed_df\n",
    "\n",
    "for name, norm_df in estaciones_norm.items():\n",
    "    base_name = name.replace('_norm', '')\n",
    "    if base_name in transformed_data:\n",
    "        station_name = base_name\n",
    "        norm_df_melted = transform_data(norm_df, None, None, station_name)\n",
    "        norm_df_melted = norm_df_melted[['Fecha', 'Caudal']].rename(columns={'Caudal': 'Caudal_norm'})\n",
    "        transformed_data[base_name] = pd.merge(transformed_data[base_name], norm_df_melted, on='Fecha', how='left')\n"
   ]
  },
  {
   "cell_type": "code",
   "execution_count": 15,
   "metadata": {},
   "outputs": [],
   "source": [
    "for name, df in transformed_data.items():\n",
    "    df['Caudal'] = df['Caudal'].astype(str).str.replace(',', '.').astype(float)\n",
    "    if 'Caudal_norm' in df.columns:\n",
    "        df['Caudal_norm'] = df['Caudal_norm'].astype(str).str.replace(',', '.').astype(float)\n",
    "\n",
    "for name, df in transformed_data.items():\n",
    "    df[name] = df.apply(lambda row: row['Caudal'] if row['Estacion'].replace(' ', '_').lower() == name else 0, axis=1)\n"
   ]
  },
  {
   "cell_type": "code",
   "execution_count": 16,
   "metadata": {},
   "outputs": [],
   "source": [
    "combined_data = pd.concat(transformed_data.values(), ignore_index=True)\n",
    "properties = ['Fecha', 'Caudal', 'Caudal_norm', 'Estacion'] + list(transformed_data.keys())\n"
   ]
  },
  {
   "cell_type": "code",
   "execution_count": 17,
   "metadata": {},
   "outputs": [],
   "source": [
    "def clean_nan_values(df):\n",
    "    for col in df.columns:\n",
    "        df[col].fillna(0, inplace=True)\n",
    "    return df\n",
    "\n",
    "combined_data = clean_nan_values(combined_data)"
   ]
  },
  {
   "cell_type": "code",
   "execution_count": 18,
   "metadata": {},
   "outputs": [],
   "source": [
    "def df_to_geojson(df, properties, lat='Latitud', lon='Longitud'):\n",
    "    geojson = {'type': 'FeatureCollection', 'features': []}\n",
    "    for _, row in df.iterrows():\n",
    "        feature = {\n",
    "            'type': 'Feature',\n",
    "            'properties': {},\n",
    "            'geometry': {\n",
    "                'type': 'Point',\n",
    "                'coordinates': [row[lon], row[lat]]\n",
    "            }\n",
    "        }\n",
    "        for prop in properties:\n",
    "            if isinstance(row[prop], pd.Timestamp):\n",
    "                feature['properties'][prop] = row[prop].isoformat()\n",
    "            else:\n",
    "                feature['properties'][prop] = row[prop]\n",
    "        geojson['features'].append(feature)\n",
    "    return geojson\n",
    "\n"
   ]
  },
  {
   "cell_type": "code",
   "execution_count": 19,
   "metadata": {},
   "outputs": [
    {
     "name": "stdout",
     "output_type": "stream",
     "text": [
      "GeoJSON file created at ./Caudales_norm_etiquetas_ajustado.geojson\n"
     ]
    }
   ],
   "source": [
    "\n",
    "import json\n",
    "\n",
    "geojson_data = df_to_geojson(combined_data, properties)\n",
    "geojson_path = os.path.expanduser('./Caudales_norm_etiquetas_ajustado.geojson')\n",
    "with open(geojson_path, 'w') as f:\n",
    "    json.dump(geojson_data, f)\n",
    "\n",
    "print(f\"GeoJSON file created at {geojson_path}\")"
   ]
  },
  {
   "cell_type": "code",
   "execution_count": null,
   "metadata": {},
   "outputs": [],
   "source": []
  },
  {
   "cell_type": "code",
   "execution_count": null,
   "metadata": {},
   "outputs": [],
   "source": []
  }
 ],
 "metadata": {
  "kernelspec": {
   "display_name": "Python 3 (ipykernel)",
   "language": "python",
   "name": "python3"
  },
  "language_info": {
   "codemirror_mode": {
    "name": "ipython",
    "version": 3
   },
   "file_extension": ".py",
   "mimetype": "text/x-python",
   "name": "python",
   "nbconvert_exporter": "python",
   "pygments_lexer": "ipython3",
   "version": "3.11.7"
  }
 },
 "nbformat": 4,
 "nbformat_minor": 4
}
