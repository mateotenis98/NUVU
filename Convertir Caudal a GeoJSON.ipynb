{
 "cells": [
  {
   "cell_type": "code",
   "execution_count": 1,
   "metadata": {},
   "outputs": [],
   "source": [
    "import pandas as pd\n",
    "import json\n",
    "\n",
    "file_path_nechi = r'C:/Users/Mateo Grisales/Documents/NUVU/Caudal_Medio_Dia_Historico/Caudal_Medio_Dia_Historico_Nechi.csv'\n",
    "file_path_san_jacinto = r'C:/Users/Mateo Grisales/Documents/NUVU/Caudal_Medio_Dia_Historico/Caudal_Medio_Dia_Historico_San_Jacinto_del_Cauca.csv'\n",
    "\n",
    "data_nechi = pd.read_csv(file_path_nechi, sep=';', encoding='ISO-8859-1')\n",
    "data_san_jacinto = pd.read_csv(file_path_san_jacinto, sep=';', encoding='ISO-8859-1')\n"
   ]
  },
  {
   "cell_type": "code",
   "execution_count": 3,
   "metadata": {},
   "outputs": [],
   "source": [
    "def transform_data(data, lat, lon):\n",
    "    melted_data = data.melt(id_vars=[\"year\", \"month\"], var_name=\"day\", value_name=\"Caudal\")\n",
    "    melted_data.dropna(subset=[\"Caudal\"], inplace=True)\n",
    "    melted_data['day'] = melted_data['day'].astype(int)\n",
    "    melted_data['Fecha'] = pd.to_datetime(melted_data[['year', 'month', 'day']])\n",
    "    melted_data.sort_values('Fecha', inplace=True)\n",
    "    melted_data['Fecha'] = melted_data['Fecha'].astype(str)\n",
    "    melted_data['Latitud'] = lat\n",
    "    melted_data['Longitud'] = lon\n",
    "    return melted_data\n",
    "\n",
    "data_nechi_transformed = transform_data(data_nechi, 8.030111111, -74.78555556)\n",
    "data_san_jacinto_transformed = transform_data(data_san_jacinto, 8.344555556, -74.56122222)\n"
   ]
  },
  {
   "cell_type": "code",
   "execution_count": 4,
   "metadata": {},
   "outputs": [],
   "source": [
    "combined_data = pd.concat([data_nechi_transformed, data_san_jacinto_transformed], ignore_index=True)"
   ]
  },
  {
   "cell_type": "code",
   "execution_count": 5,
   "metadata": {},
   "outputs": [],
   "source": [
    "def df_to_geojson(df, properties, lat='Latitud', lon='Longitud'):\n",
    "    geojson = {'type': 'FeatureCollection', 'features': []}\n",
    "    for _, row in df.iterrows():\n",
    "        feature = {\n",
    "            'type': 'Feature',\n",
    "            'properties': {},\n",
    "            'geometry': {\n",
    "                'type': 'Point',\n",
    "                'coordinates': [row[lon], row[lat]]\n",
    "            }\n",
    "        }\n",
    "        for prop in properties:\n",
    "            if isinstance(row[prop], pd.Timestamp):\n",
    "                feature['properties'][prop] = row[prop].isoformat()\n",
    "            else:\n",
    "                feature['properties'][prop] = row[prop]\n",
    "        geojson['features'].append(feature)\n",
    "    return geojson"
   ]
  },
  {
   "cell_type": "code",
   "execution_count": 6,
   "metadata": {},
   "outputs": [
    {
     "name": "stdout",
     "output_type": "stream",
     "text": [
      "GeoJSON file created at C:/Users/Mateo Grisales/Downloads/Caudal_Nechi.geojson\n"
     ]
    }
   ],
   "source": [
    "properties = ['Fecha', 'Caudal']\n",
    "geojson_data = df_to_geojson(combined_data, properties)\n",
    "\n",
    "geojson_path = 'C:/Users/Mateo Grisales/Documents/NUVU/Caudales.geojson'\n",
    "with open(geojson_path, 'w') as f:\n",
    "    json.dump(geojson_data, f)\n",
    "\n",
    "print(f\"GeoJSON file created at {geojson_path}\")\n"
   ]
  },
  {
   "cell_type": "code",
   "execution_count": null,
   "metadata": {},
   "outputs": [],
   "source": []
  },
  {
   "cell_type": "code",
   "execution_count": null,
   "metadata": {},
   "outputs": [],
   "source": []
  }
 ],
 "metadata": {
  "kernelspec": {
   "display_name": "Python 3 (ipykernel)",
   "language": "python",
   "name": "python3"
  },
  "language_info": {
   "codemirror_mode": {
    "name": "ipython",
    "version": 3
   },
   "file_extension": ".py",
   "mimetype": "text/x-python",
   "name": "python",
   "nbconvert_exporter": "python",
   "pygments_lexer": "ipython3",
   "version": "3.11.7"
  }
 },
 "nbformat": 4,
 "nbformat_minor": 4
}
