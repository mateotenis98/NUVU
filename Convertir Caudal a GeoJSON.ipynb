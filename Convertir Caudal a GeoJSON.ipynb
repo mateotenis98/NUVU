{
 "cells": [
  {
   "cell_type": "code",
   "execution_count": 31,
   "metadata": {},
   "outputs": [],
   "source": [
    "import pandas as pd\n",
    "import json\n",
    "\n",
    "file_path_nechi = r'C:/Users/Mateo Grisales/Documents/NUVU/Caudal_Medio_Dia_Historico/LA ESPERANZA NECHI.csv'\n",
    "file_path_la_raya = r'C:/Users/Mateo Grisales/Documents/NUVU/Caudal_Medio_Dia_Historico/LA RAYA.csv'\n",
    "file_path_las_varas = r'C:/Users/Mateo Grisales/Documents/NUVU/Caudal_Medio_Dia_Historico/LAS VARAS.csv'\n",
    "file_path_magangue = r'C:/Users/Mateo Grisales/Documents/NUVU/Caudal_Medio_Dia_Historico/MAGANGUE.csv'\n",
    "file_path_sucre = r'C:/Users/Mateo Grisales/Documents/NUVU/Caudal_Medio_Dia_Historico/SUCRE.csv'\n",
    "file_path_tres_cruces = r'C:/Users/Mateo Grisales/Documents/NUVU/Caudal_Medio_Dia_Historico/TRES CRUCES.csv'\n",
    "file_path_villa_teresa = r'C:/Users/Mateo Grisales/Documents/NUVU/Caudal_Medio_Dia_Historico/VILLA TERESA.csv'\n",
    "\n",
    "data_nechi = pd.read_csv(file_path_nechi, sep=';', encoding='ISO-8859-1')\n",
    "data_san_jacinto = pd.read_csv(file_path_la_raya, sep=';', encoding='ISO-8859-1')\n",
    "data_las_varas = pd.read_csv(file_path_las_varas, sep=';', encoding='ISO-8859-1')\n",
    "data_magangue = pd.read_csv(file_path_magangue, sep=';', encoding='ISO-8859-1')\n",
    "data_sucre = pd.read_csv(file_path_sucre, sep=';', encoding='ISO-8859-1')\n",
    "data_tres_cruces = pd.read_csv(file_path_tres_cruces, sep=';', encoding='ISO-8859-1')\n",
    "data_villa_teresa = pd.read_csv(file_path_villa_teresa, sep=';', encoding='ISO-8859-1')\n"
   ]
  },
  {
   "cell_type": "code",
   "execution_count": 32,
   "metadata": {},
   "outputs": [],
   "source": [
    "def transform_data(data, lat, lon):\n",
    "    melted_data = data.melt(id_vars=[\"year\", \"month\"], var_name=\"day\", value_name=\"Caudal\")\n",
    "    melted_data.dropna(subset=[\"Caudal\"], inplace=True)\n",
    "    melted_data['day'] = melted_data['day'].astype(int)\n",
    "    melted_data['Fecha'] = pd.to_datetime(melted_data[['year', 'month', 'day']]) + pd.to_timedelta('00:00:00')\n",
    "    melted_data.sort_values('Fecha', inplace=True)\n",
    "    #melted_data['Fecha'] = melted_data['Fecha'].astype(str)\n",
    "    melted_data['Latitud'] = lat\n",
    "    melted_data['Longitud'] = lon\n",
    "    return melted_data\n",
    "\n",
    "data_nechi_transformed = transform_data(data_nechi, 8.030111111, -74.78555556)\n",
    "data_san_jacinto_transformed = transform_data(data_san_jacinto, 8.344555556, -74.56122222)\n",
    "data_las_varas_transformed = transform_data(data_las_varas, 8.39, -74.56)\n",
    "data_magangue_transformed = transform_data(data_magangue, 9.24, -74.74166667)\n",
    "data_sucre_transformed = transform_data(data_sucre, 8.809722222, -74.72222222)\n",
    "data_tres_cruces_transformed = transform_data(data_tres_cruces, 8.703083333, -74.51730556)\n",
    "data_villa_teresa_transformed = transform_data(data_villa_teresa, 9.023972222, -74.97666667)"
   ]
  },
  {
   "cell_type": "code",
   "execution_count": 33,
   "metadata": {},
   "outputs": [],
   "source": [
    "combined_data = pd.concat([data_nechi_transformed, data_san_jacinto_transformed, data_las_varas_transformed, \n",
    "                           data_magangue_transformed,data_sucre_transformed, data_tres_cruces_transformed,\n",
    "                           data_villa_teresa_transformed], ignore_index=True)"
   ]
  },
  {
   "cell_type": "code",
   "execution_count": 34,
   "metadata": {},
   "outputs": [],
   "source": [
    "def df_to_geojson(df, properties, lat='Latitud', lon='Longitud'):\n",
    "    geojson = {'type': 'FeatureCollection', 'features': []}\n",
    "    for _, row in df.iterrows():\n",
    "        feature = {\n",
    "            'type': 'Feature',\n",
    "            'properties': {},\n",
    "            'geometry': {\n",
    "                'type': 'Point',\n",
    "                'coordinates': [row[lon], row[lat]]\n",
    "            }\n",
    "        }\n",
    "        for prop in properties:\n",
    "            if isinstance(row[prop], pd.Timestamp):\n",
    "                feature['properties'][prop] = row[prop].isoformat()\n",
    "            else:\n",
    "                feature['properties'][prop] = row[prop]\n",
    "        geojson['features'].append(feature)\n",
    "    return geojson"
   ]
  },
  {
   "cell_type": "code",
   "execution_count": 35,
   "metadata": {},
   "outputs": [
    {
     "name": "stdout",
     "output_type": "stream",
     "text": [
      "GeoJSON file created at C:/Users/Mateo Grisales/Documents/NUVU/Caudales.geojson\n"
     ]
    }
   ],
   "source": [
    "properties = ['Fecha', 'Caudal']\n",
    "geojson_data = df_to_geojson(combined_data, properties)\n",
    "\n",
    "geojson_path = 'C:/Users/Mateo Grisales/Documents/NUVU/Caudales.geojson'\n",
    "with open(geojson_path, 'w') as f:\n",
    "    json.dump(geojson_data, f)\n",
    "\n",
    "print(f\"GeoJSON file created at {geojson_path}\")\n"
   ]
  },
  {
   "cell_type": "code",
   "execution_count": null,
   "metadata": {},
   "outputs": [],
   "source": []
  }
 ],
 "metadata": {
  "kernelspec": {
   "display_name": "Python 3 (ipykernel)",
   "language": "python",
   "name": "python3"
  },
  "language_info": {
   "codemirror_mode": {
    "name": "ipython",
    "version": 3
   },
   "file_extension": ".py",
   "mimetype": "text/x-python",
   "name": "python",
   "nbconvert_exporter": "python",
   "pygments_lexer": "ipython3",
   "version": "3.11.7"
  }
 },
 "nbformat": 4,
 "nbformat_minor": 4
}
